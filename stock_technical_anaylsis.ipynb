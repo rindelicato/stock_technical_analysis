{
 "cells": [
  {
   "cell_type": "markdown",
   "metadata": {},
   "source": [
    "# TICKER TECHNICAL ANALYSIS\n",
    "\n",
    "<img src=\"media/bull_bear.jpeg\" alt=\"Alt Text\" width=\"150\"/>\n",
    "\n",
    "Analsys of buy and sell signals for a given ticker price action for the specified date range. The buy and sell \n",
    "signals are based on common technical indicators, custom algorythms & compared against Machine Learning models."
   ]
  },
  {
   "cell_type": "markdown",
   "metadata": {},
   "source": [
    "### Imported Modules"
   ]
  },
  {
   "cell_type": "code",
   "execution_count": 1,
   "metadata": {},
   "outputs": [],
   "source": [
    "import yfinance as yf\n",
    "import pandas as pd\n",
    "import pandas_ta as ta\n",
    "import numpy as np\n",
    "import matplotlib.pyplot as plt\n",
    "import mplfinance as mpf\n",
    "from datetime import datetime, timedelta\n",
    "from IPython.display import display\n",
    "from sklearn.model_selection import train_test_split\n",
    "from sklearn.preprocessing import StandardScaler\n",
    "from sklearn.neighbors import KNeighborsClassifier\n",
    "from sklearn.metrics import accuracy_score"
   ]
  },
  {
   "cell_type": "markdown",
   "metadata": {},
   "source": [
    "### Date Range Ticker\n"
   ]
  },
  {
   "cell_type": "code",
   "execution_count": 2,
   "metadata": {},
   "outputs": [],
   "source": [
    "\"\"\"\n",
    "Get current date so we can always get the most recent date from yahoo finance.\n",
    "date is formated at as YY-mm-dd.\n",
    "\n",
    "\"\"\"\n",
    "\n",
    "\n",
    "date = datetime.now() + timedelta(days=1)\n",
    "end_date_fmt = date.strftime(\"%Y-%m-%d\")\n",
    "start_date = '2022-01-01'\n",
    "ticker = 'sofi'"
   ]
  },
  {
   "cell_type": "markdown",
   "metadata": {},
   "source": [
    "### Yahoo API Using Date Range and Ticker"
   ]
  },
  {
   "cell_type": "code",
   "execution_count": 3,
   "metadata": {},
   "outputs": [],
   "source": [
    "df_daily = yf.download(ticker, start_date, end_date_fmt, progress=False)"
   ]
  },
  {
   "cell_type": "code",
   "execution_count": 4,
   "metadata": {},
   "outputs": [],
   "source": [
    "\"\"\"\n",
    "The date_range function filters the dataframe for exact date range or span.\n",
    "\n",
    "\"\"\"\n",
    "\n",
    "def date_range(data, start=None, end=None, span=None):\n",
    "    if start and end:\n",
    "        return data[start:end]\n",
    "    elif span is not None:\n",
    "        cutoff_date = pd.Timestamp.now()-pd.Timedelta(days=span)\n",
    "        return data[df_daily.index > cutoff_date]\n",
    "    else:\n",
    "        raise ValueError(\"Please provide either a date range (start='yyyy-mm-dd', end='yyyy-mm-dd') or span\")\n",
    "\n"
   ]
  },
  {
   "cell_type": "markdown",
   "metadata": {},
   "source": [
    "### Technical Indicators"
   ]
  },
  {
   "cell_type": "markdown",
   "metadata": {},
   "source": [
    "EMA"
   ]
  },
  {
   "cell_type": "code",
   "execution_count": 5,
   "metadata": {},
   "outputs": [],
   "source": [
    "\"\"\"\"\n",
    "The EMA function calculates the Exponential Moving Average (ema) by finding the average between the fast and slow ema.\n",
    "The Fastema and Slowema are added as columns to the database.\n",
    "\n",
    "\"\"\"\n",
    "\n",
    "def ema(dataset, fast, slow):\n",
    "   dataset['Fastema'] = dataset['Close'].ewm(span=fast, adjust=False).mean()\n",
    "   dataset['Slowema'] = dataset['Close'].ewm(span=slow, adjust=False).mean()\n",
    "   return dataset"
   ]
  },
  {
   "cell_type": "markdown",
   "metadata": {},
   "source": [
    "MACD\n"
   ]
  },
  {
   "cell_type": "code",
   "execution_count": 6,
   "metadata": {},
   "outputs": [],
   "source": [
    "\"\"\"\n",
    "The macd1 function is calcuating the Moving Average Convergence Divergence (MACD) by finding the difference between 12 and 26 EMA.\n",
    "Generate singals based on 9 day moving average.\n",
    "Inserting a macd histogram that shows macd and signal crossing by finding the difference.\n",
    "\"\"\"\n",
    "\n",
    "\n",
    "def macd1(dataset):\n",
    "    dataset['macd12'] =  dataset['Close'].ewm(span=12, adjust=False).mean()\n",
    "    dataset['macd26'] = dataset['Close'].ewm(span=26, adjust=False).mean()\n",
    "    dataset['macd'] = dataset['macd12'] - dataset['macd26']\n",
    "    dataset['signal'] = dataset['macd'].ewm(span=9, adjust=False).mean()\n",
    "    dataset['macd_hist'] = dataset['macd'] - dataset['signal']\n",
    "    return dataset\n",
    "\n",
    "\n",
    "\n"
   ]
  },
  {
   "cell_type": "markdown",
   "metadata": {},
   "source": [
    "RSI"
   ]
  },
  {
   "cell_type": "code",
   "execution_count": 7,
   "metadata": {},
   "outputs": [],
   "source": [
    "\"\"\"\n",
    "The RSI function calculates the Relative Strength Index (RSI).\n",
    "The Median_RSI function calculates overbought_level and oversold_level to find the average.\n",
    "\n",
    "\"\"\"\n",
    "\n",
    "def rsi(dataset, overbought_level, oversold_level):\n",
    "    delta = dataset['Close'].diff(1)\n",
    "\n",
    "    # Calculate the exponentially weighted moving averages of gains and losses\n",
    "    gain_ewm = delta.where(delta > 0, 0).ewm(span=14, adjust=False).mean()\n",
    "    loss_ewm = -delta.where(delta < 0, 0).ewm(span=14, adjust=False).mean()\n",
    "\n",
    "    # Calculate the relative strength (RS)\n",
    "    rs = gain_ewm / loss_ewm\n",
    "\n",
    "    # Calculate the RSI\n",
    "    rsi = 100 - (100 / (1 + rs))\n",
    "    dataset['RSI'] = rsi\n",
    "\n",
    "    median_rsi = np.median([overbought_level, oversold_level])\n",
    "    dataset['Median_RSI'] = np.where(rsi > median_rsi, 1, -1)\n",
    "\n",
    "    return(dataset)\n"
   ]
  },
  {
   "cell_type": "markdown",
   "metadata": {},
   "source": [
    "### Calculating Combined Technical Indicators"
   ]
  },
  {
   "cell_type": "code",
   "execution_count": 8,
   "metadata": {},
   "outputs": [],
   "source": [
    "# Added a variable called all_indicators that chains/links all technical indicators functions to run all at once.\n",
    "all_indicators = rsi(macd1(ema(df_daily,5, 7)),70, 30)"
   ]
  },
  {
   "cell_type": "code",
   "execution_count": 9,
   "metadata": {},
   "outputs": [
    {
     "data": {
      "text/html": [
       "<div>\n",
       "<style scoped>\n",
       "    .dataframe tbody tr th:only-of-type {\n",
       "        vertical-align: middle;\n",
       "    }\n",
       "\n",
       "    .dataframe tbody tr th {\n",
       "        vertical-align: top;\n",
       "    }\n",
       "\n",
       "    .dataframe thead th {\n",
       "        text-align: right;\n",
       "    }\n",
       "</style>\n",
       "<table border=\"1\" class=\"dataframe\">\n",
       "  <thead>\n",
       "    <tr style=\"text-align: right;\">\n",
       "      <th></th>\n",
       "      <th>Open</th>\n",
       "      <th>High</th>\n",
       "      <th>Low</th>\n",
       "      <th>Close</th>\n",
       "      <th>Adj Close</th>\n",
       "      <th>Volume</th>\n",
       "      <th>Fastema</th>\n",
       "      <th>Slowema</th>\n",
       "      <th>macd12</th>\n",
       "      <th>macd26</th>\n",
       "      <th>macd</th>\n",
       "      <th>signal</th>\n",
       "      <th>macd_hist</th>\n",
       "      <th>RSI</th>\n",
       "      <th>Median_RSI</th>\n",
       "    </tr>\n",
       "    <tr>\n",
       "      <th>Date</th>\n",
       "      <th></th>\n",
       "      <th></th>\n",
       "      <th></th>\n",
       "      <th></th>\n",
       "      <th></th>\n",
       "      <th></th>\n",
       "      <th></th>\n",
       "      <th></th>\n",
       "      <th></th>\n",
       "      <th></th>\n",
       "      <th></th>\n",
       "      <th></th>\n",
       "      <th></th>\n",
       "      <th></th>\n",
       "      <th></th>\n",
       "    </tr>\n",
       "  </thead>\n",
       "  <tbody>\n",
       "    <tr>\n",
       "      <th>2022-01-03</th>\n",
       "      <td>16.100</td>\n",
       "      <td>16.129999</td>\n",
       "      <td>15.45</td>\n",
       "      <td>15.68</td>\n",
       "      <td>15.68</td>\n",
       "      <td>27500900</td>\n",
       "      <td>15.680000</td>\n",
       "      <td>15.680000</td>\n",
       "      <td>15.680000</td>\n",
       "      <td>15.680000</td>\n",
       "      <td>0.000000</td>\n",
       "      <td>0.000000</td>\n",
       "      <td>0.000000</td>\n",
       "      <td>NaN</td>\n",
       "      <td>-1</td>\n",
       "    </tr>\n",
       "    <tr>\n",
       "      <th>2022-01-04</th>\n",
       "      <td>15.610</td>\n",
       "      <td>15.861000</td>\n",
       "      <td>14.59</td>\n",
       "      <td>15.05</td>\n",
       "      <td>15.05</td>\n",
       "      <td>34175900</td>\n",
       "      <td>15.470000</td>\n",
       "      <td>15.522500</td>\n",
       "      <td>15.583077</td>\n",
       "      <td>15.633334</td>\n",
       "      <td>-0.050256</td>\n",
       "      <td>-0.010051</td>\n",
       "      <td>-0.040205</td>\n",
       "      <td>0.0</td>\n",
       "      <td>-1</td>\n",
       "    </tr>\n",
       "    <tr>\n",
       "      <th>2022-01-05</th>\n",
       "      <td>14.880</td>\n",
       "      <td>15.230000</td>\n",
       "      <td>14.04</td>\n",
       "      <td>14.10</td>\n",
       "      <td>14.10</td>\n",
       "      <td>35103100</td>\n",
       "      <td>15.013334</td>\n",
       "      <td>15.166875</td>\n",
       "      <td>15.354912</td>\n",
       "      <td>15.519753</td>\n",
       "      <td>-0.164842</td>\n",
       "      <td>-0.041009</td>\n",
       "      <td>-0.123832</td>\n",
       "      <td>0.0</td>\n",
       "      <td>-1</td>\n",
       "    </tr>\n",
       "    <tr>\n",
       "      <th>2022-01-06</th>\n",
       "      <td>14.016</td>\n",
       "      <td>14.270000</td>\n",
       "      <td>13.01</td>\n",
       "      <td>13.78</td>\n",
       "      <td>13.78</td>\n",
       "      <td>46269400</td>\n",
       "      <td>14.602222</td>\n",
       "      <td>14.820156</td>\n",
       "      <td>15.112617</td>\n",
       "      <td>15.390883</td>\n",
       "      <td>-0.278265</td>\n",
       "      <td>-0.088461</td>\n",
       "      <td>-0.189805</td>\n",
       "      <td>0.0</td>\n",
       "      <td>-1</td>\n",
       "    </tr>\n",
       "    <tr>\n",
       "      <th>2022-01-07</th>\n",
       "      <td>13.821</td>\n",
       "      <td>14.400000</td>\n",
       "      <td>13.62</td>\n",
       "      <td>13.74</td>\n",
       "      <td>13.74</td>\n",
       "      <td>28716200</td>\n",
       "      <td>14.314815</td>\n",
       "      <td>14.550117</td>\n",
       "      <td>14.901445</td>\n",
       "      <td>15.268595</td>\n",
       "      <td>-0.367150</td>\n",
       "      <td>-0.144198</td>\n",
       "      <td>-0.222951</td>\n",
       "      <td>0.0</td>\n",
       "      <td>-1</td>\n",
       "    </tr>\n",
       "  </tbody>\n",
       "</table>\n",
       "</div>"
      ],
      "text/plain": [
       "              Open       High    Low  Close  Adj Close    Volume    Fastema  \\\n",
       "Date                                                                          \n",
       "2022-01-03  16.100  16.129999  15.45  15.68      15.68  27500900  15.680000   \n",
       "2022-01-04  15.610  15.861000  14.59  15.05      15.05  34175900  15.470000   \n",
       "2022-01-05  14.880  15.230000  14.04  14.10      14.10  35103100  15.013334   \n",
       "2022-01-06  14.016  14.270000  13.01  13.78      13.78  46269400  14.602222   \n",
       "2022-01-07  13.821  14.400000  13.62  13.74      13.74  28716200  14.314815   \n",
       "\n",
       "              Slowema     macd12     macd26      macd    signal  macd_hist  \\\n",
       "Date                                                                         \n",
       "2022-01-03  15.680000  15.680000  15.680000  0.000000  0.000000   0.000000   \n",
       "2022-01-04  15.522500  15.583077  15.633334 -0.050256 -0.010051  -0.040205   \n",
       "2022-01-05  15.166875  15.354912  15.519753 -0.164842 -0.041009  -0.123832   \n",
       "2022-01-06  14.820156  15.112617  15.390883 -0.278265 -0.088461  -0.189805   \n",
       "2022-01-07  14.550117  14.901445  15.268595 -0.367150 -0.144198  -0.222951   \n",
       "\n",
       "            RSI  Median_RSI  \n",
       "Date                         \n",
       "2022-01-03  NaN          -1  \n",
       "2022-01-04  0.0          -1  \n",
       "2022-01-05  0.0          -1  \n",
       "2022-01-06  0.0          -1  \n",
       "2022-01-07  0.0          -1  "
      ]
     },
     "execution_count": 9,
     "metadata": {},
     "output_type": "execute_result"
    }
   ],
   "source": [
    "# Shows the first 5 rows of all_indicatos dataset.\n",
    "all_indicators.head()"
   ]
  },
  {
   "cell_type": "code",
   "execution_count": null,
   "metadata": {},
   "outputs": [],
   "source": []
  }
 ],
 "metadata": {
  "kernelspec": {
   "display_name": "Python 3",
   "language": "python",
   "name": "python3"
  },
  "language_info": {
   "codemirror_mode": {
    "name": "ipython",
    "version": 3
   },
   "file_extension": ".py",
   "mimetype": "text/x-python",
   "name": "python",
   "nbconvert_exporter": "python",
   "pygments_lexer": "ipython3",
   "version": "3.11.9"
  }
 },
 "nbformat": 4,
 "nbformat_minor": 2
}
