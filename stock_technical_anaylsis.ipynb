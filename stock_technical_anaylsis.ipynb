{
 "cells": [
  {
   "cell_type": "markdown",
   "metadata": {},
   "source": [
    "# TICKER TECHNICAL ANALYSIS\n",
    "\n",
    "<img src=\"media/bull_bear.jpeg\" alt=\"Alt Text\" width=\"150\"/>\n",
    "\n",
    "Analsys of buy and sell signals for a given ticker price action for the specified date range. The buy and sell \n",
    "signals are based on common technical indicators, custom algorythms & compared against Machine Learning models."
   ]
  },
  {
   "cell_type": "markdown",
   "metadata": {},
   "source": [
    "### Imported Modules"
   ]
  },
  {
   "cell_type": "code",
   "execution_count": 145,
   "metadata": {},
   "outputs": [],
   "source": [
    "import yfinance as yf\n",
    "import pandas as pd\n",
    "import pandas_ta as ta\n",
    "import numpy as np\n",
    "import matplotlib.pyplot as plt\n",
    "import mplfinance as mpf\n",
    "from datetime import datetime, timedelta\n",
    "from IPython.display import display\n",
    "from sklearn.model_selection import train_test_split\n",
    "from sklearn.preprocessing import StandardScaler\n",
    "from sklearn.neighbors import KNeighborsClassifier\n",
    "from sklearn.metrics import accuracy_score"
   ]
  },
  {
   "cell_type": "markdown",
   "metadata": {},
   "source": [
    "### Date Range Ticker\n"
   ]
  },
  {
   "cell_type": "code",
   "execution_count": 146,
   "metadata": {},
   "outputs": [],
   "source": [
    "\"\"\"\n",
    "Get current date so we can always get the most recent date from yahoo finance.\n",
    "date is formated at as YY-mm-dd.\n",
    "\n",
    "\"\"\"\n",
    "\n",
    "\n",
    "date = datetime.now() + timedelta(days=1)\n",
    "end_date_fmt = date.strftime(\"%Y-%m-%d\")\n",
    "start_date = '2022-01-01'\n",
    "ticker = 'sofi'"
   ]
  },
  {
   "cell_type": "markdown",
   "metadata": {},
   "source": [
    "### Yahoo API Using Date Range and Ticker"
   ]
  },
  {
   "cell_type": "code",
   "execution_count": 147,
   "metadata": {},
   "outputs": [],
   "source": [
    "df_daily = yf.download(ticker, start_date, end_date_fmt, progress=False)"
   ]
  },
  {
   "cell_type": "code",
   "execution_count": 148,
   "metadata": {},
   "outputs": [
    {
     "data": {
      "text/html": [
       "<div>\n",
       "<style scoped>\n",
       "    .dataframe tbody tr th:only-of-type {\n",
       "        vertical-align: middle;\n",
       "    }\n",
       "\n",
       "    .dataframe tbody tr th {\n",
       "        vertical-align: top;\n",
       "    }\n",
       "\n",
       "    .dataframe thead th {\n",
       "        text-align: right;\n",
       "    }\n",
       "</style>\n",
       "<table border=\"1\" class=\"dataframe\">\n",
       "  <thead>\n",
       "    <tr style=\"text-align: right;\">\n",
       "      <th></th>\n",
       "      <th>Open</th>\n",
       "      <th>High</th>\n",
       "      <th>Low</th>\n",
       "      <th>Close</th>\n",
       "      <th>Adj Close</th>\n",
       "      <th>Volume</th>\n",
       "    </tr>\n",
       "    <tr>\n",
       "      <th>Date</th>\n",
       "      <th></th>\n",
       "      <th></th>\n",
       "      <th></th>\n",
       "      <th></th>\n",
       "      <th></th>\n",
       "      <th></th>\n",
       "    </tr>\n",
       "  </thead>\n",
       "  <tbody>\n",
       "    <tr>\n",
       "      <th>2022-01-03</th>\n",
       "      <td>16.100</td>\n",
       "      <td>16.129999</td>\n",
       "      <td>15.45</td>\n",
       "      <td>15.68</td>\n",
       "      <td>15.68</td>\n",
       "      <td>27500900</td>\n",
       "    </tr>\n",
       "    <tr>\n",
       "      <th>2022-01-04</th>\n",
       "      <td>15.610</td>\n",
       "      <td>15.861000</td>\n",
       "      <td>14.59</td>\n",
       "      <td>15.05</td>\n",
       "      <td>15.05</td>\n",
       "      <td>34175900</td>\n",
       "    </tr>\n",
       "    <tr>\n",
       "      <th>2022-01-05</th>\n",
       "      <td>14.880</td>\n",
       "      <td>15.230000</td>\n",
       "      <td>14.04</td>\n",
       "      <td>14.10</td>\n",
       "      <td>14.10</td>\n",
       "      <td>35103100</td>\n",
       "    </tr>\n",
       "    <tr>\n",
       "      <th>2022-01-06</th>\n",
       "      <td>14.016</td>\n",
       "      <td>14.270000</td>\n",
       "      <td>13.01</td>\n",
       "      <td>13.78</td>\n",
       "      <td>13.78</td>\n",
       "      <td>46269400</td>\n",
       "    </tr>\n",
       "    <tr>\n",
       "      <th>2022-01-07</th>\n",
       "      <td>13.821</td>\n",
       "      <td>14.400000</td>\n",
       "      <td>13.62</td>\n",
       "      <td>13.74</td>\n",
       "      <td>13.74</td>\n",
       "      <td>28716200</td>\n",
       "    </tr>\n",
       "  </tbody>\n",
       "</table>\n",
       "</div>"
      ],
      "text/plain": [
       "              Open       High    Low  Close  Adj Close    Volume\n",
       "Date                                                            \n",
       "2022-01-03  16.100  16.129999  15.45  15.68      15.68  27500900\n",
       "2022-01-04  15.610  15.861000  14.59  15.05      15.05  34175900\n",
       "2022-01-05  14.880  15.230000  14.04  14.10      14.10  35103100\n",
       "2022-01-06  14.016  14.270000  13.01  13.78      13.78  46269400\n",
       "2022-01-07  13.821  14.400000  13.62  13.74      13.74  28716200"
      ]
     },
     "execution_count": 148,
     "metadata": {},
     "output_type": "execute_result"
    }
   ],
   "source": [
    "df_daily.head()"
   ]
  },
  {
   "cell_type": "code",
   "execution_count": null,
   "metadata": {},
   "outputs": [],
   "source": [
    "\"\"\"\n",
    "The date_range function filters the dataframe for exact date range or span.\n",
    "\n",
    "\"\"\"\n",
    "\n",
    "def date_range(data, start=None, end=None, span=None):\n",
    "    if start and end:\n",
    "        return data[start:end]\n",
    "    elif span is not None:\n",
    "        cutoff_date = pd.Timestamp.now()-pd.Timedelta(days=span)\n",
    "        return data[df_daily.index > cutoff_date]\n",
    "    else:\n",
    "        raise ValueError(\"Please provide either a date range (start='yyyy-mm-dd', end='yyyy-mm-dd') or span\")\n",
    "\n"
   ]
  },
  {
   "cell_type": "code",
   "execution_count": 150,
   "metadata": {},
   "outputs": [
    {
     "data": {
      "text/html": [
       "<div>\n",
       "<style scoped>\n",
       "    .dataframe tbody tr th:only-of-type {\n",
       "        vertical-align: middle;\n",
       "    }\n",
       "\n",
       "    .dataframe tbody tr th {\n",
       "        vertical-align: top;\n",
       "    }\n",
       "\n",
       "    .dataframe thead th {\n",
       "        text-align: right;\n",
       "    }\n",
       "</style>\n",
       "<table border=\"1\" class=\"dataframe\">\n",
       "  <thead>\n",
       "    <tr style=\"text-align: right;\">\n",
       "      <th></th>\n",
       "      <th>Open</th>\n",
       "      <th>High</th>\n",
       "      <th>Low</th>\n",
       "      <th>Close</th>\n",
       "      <th>Adj Close</th>\n",
       "      <th>Volume</th>\n",
       "    </tr>\n",
       "    <tr>\n",
       "      <th>Date</th>\n",
       "      <th></th>\n",
       "      <th></th>\n",
       "      <th></th>\n",
       "      <th></th>\n",
       "      <th></th>\n",
       "      <th></th>\n",
       "    </tr>\n",
       "  </thead>\n",
       "  <tbody>\n",
       "    <tr>\n",
       "      <th>2024-10-31</th>\n",
       "      <td>11.16</td>\n",
       "      <td>11.325</td>\n",
       "      <td>10.880</td>\n",
       "      <td>11.17</td>\n",
       "      <td>11.17</td>\n",
       "      <td>59129200</td>\n",
       "    </tr>\n",
       "    <tr>\n",
       "      <th>2024-11-01</th>\n",
       "      <td>11.21</td>\n",
       "      <td>11.220</td>\n",
       "      <td>10.810</td>\n",
       "      <td>11.04</td>\n",
       "      <td>11.04</td>\n",
       "      <td>41561500</td>\n",
       "    </tr>\n",
       "    <tr>\n",
       "      <th>2024-11-04</th>\n",
       "      <td>10.90</td>\n",
       "      <td>11.130</td>\n",
       "      <td>10.635</td>\n",
       "      <td>10.91</td>\n",
       "      <td>10.91</td>\n",
       "      <td>40752744</td>\n",
       "    </tr>\n",
       "  </tbody>\n",
       "</table>\n",
       "</div>"
      ],
      "text/plain": [
       "             Open    High     Low  Close  Adj Close    Volume\n",
       "Date                                                         \n",
       "2024-10-31  11.16  11.325  10.880  11.17      11.17  59129200\n",
       "2024-11-01  11.21  11.220  10.810  11.04      11.04  41561500\n",
       "2024-11-04  10.90  11.130  10.635  10.91      10.91  40752744"
      ]
     },
     "execution_count": 150,
     "metadata": {},
     "output_type": "execute_result"
    }
   ],
   "source": [
    "date_range(df_daily, start='2024-10-31', end='2024-11-04')\n"
   ]
  },
  {
   "cell_type": "code",
   "execution_count": null,
   "metadata": {},
   "outputs": [],
   "source": [
    "date_range()"
   ]
  }
 ],
 "metadata": {
  "kernelspec": {
   "display_name": "Python 3",
   "language": "python",
   "name": "python3"
  },
  "language_info": {
   "codemirror_mode": {
    "name": "ipython",
    "version": 3
   },
   "file_extension": ".py",
   "mimetype": "text/x-python",
   "name": "python",
   "nbconvert_exporter": "python",
   "pygments_lexer": "ipython3",
   "version": "3.11.9"
  }
 },
 "nbformat": 4,
 "nbformat_minor": 2
}
